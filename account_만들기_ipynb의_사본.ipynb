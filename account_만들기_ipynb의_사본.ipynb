{
  "nbformat": 4,
  "nbformat_minor": 0,
  "metadata": {
    "colab": {
      "provenance": [],
      "include_colab_link": true
    },
    "kernelspec": {
      "name": "python3",
      "display_name": "Python 3"
    },
    "language_info": {
      "name": "python"
    }
  },
  "cells": [
    {
      "cell_type": "markdown",
      "metadata": {
        "id": "view-in-github",
        "colab_type": "text"
      },
      "source": [
        "<a href=\"https://colab.research.google.com/github/wowrainbow/0531_quest/blob/main/account_%EB%A7%8C%EB%93%A4%EA%B8%B0_ipynb%EC%9D%98_%EC%82%AC%EB%B3%B8.ipynb\" target=\"_parent\"><img src=\"https://colab.research.google.com/assets/colab-badge.svg\" alt=\"Open In Colab\"/></a>"
      ]
    },
    {
      "cell_type": "code",
      "execution_count": null,
      "metadata": {
        "id": "_GpUqXQMMczh"
      },
      "outputs": [],
      "source": [
        "from random import randrange # random 변수\n",
        "import numpy as np\n",
        "import datetime"
      ]
    },
    {
      "cell_type": "code",
      "source": [
        "class Account:\n",
        "\n",
        "    def __init__(self, name, balance):\n",
        "        self.name = name # 예금주\n",
        "        self.balance = 0 # 잔액\n",
        "        self.deposit_count = 0\n",
        "        self.bankname = \"SC은행\"\n",
        "        self.d_history_list = []\n",
        "        self.w_history_list = []\n",
        "\n",
        "\n",
        "    def account_num(self):\n",
        "        a = range(0,10)\n",
        "        print(f\"{np.random.choice(a,size=3)}-{np.random.choice(a,size=2)}-{np.random.choice(a,size=6)}\")\n",
        "\n",
        "        # print()할때 000 - 00 - 000000 format으로 만들기\n",
        "\n",
        "\n",
        "    def deposit(self, amount):\n",
        "    #입금 최소 1원 이상만 가능\n",
        "        if amount >= 1:\n",
        "            self.balance += amount\n",
        "            self.deposit_count += 1\n",
        "\n",
        "            print(f\"입금완료: {amount}원\")\n",
        "            print(f\"현재 잔액: {self.balance}원\")\n",
        "        else:\n",
        "            print(\"1원 이상 입금\")\n",
        "\n",
        "\n",
        "        if self.deposit_count % 5 == 0:\n",
        "               self.apply_interest()\n",
        "\n",
        "        self.d_history_list.append((datetime.datime.now(), amount))\n",
        "\n",
        "\n",
        "    def withdraw(self, wd): #wd는 출금 금액\n",
        "    #잔고 이상으로 출금 불가능\n",
        "        wd = int(input(\"출금금액: \"))\n",
        "        if wd <= balance:\n",
        "            amount = self.balance - wd\n",
        "            print(f\"출금완료: {wd}원\")\n",
        "            print(f\"현재 잔액: {amount}원\")\n",
        "        else:\n",
        "            print(\"잔액부족\")\n",
        "\n",
        "        self.w_history_list.append((datetime.datime.now(), wd))\n",
        "\n",
        "\n",
        "    def deposit_history(self):\n",
        "\n",
        "        print(\"입금내역 : \")\n",
        "        for date, amount in self.d_history_list:\n",
        "             print(f\"{date} - {amount}원\")\n",
        "\n",
        "\n",
        "    def withdraw_history(self):\n",
        "\n",
        "        print(\"출금내역 : \")\n",
        "        for date, amount in self.w_history_list:\n",
        "             print(f\"{date} - {wd}원\")\n",
        "\n",
        "    def all_history(self):\n",
        "        print(f\"은행이름: {self.bankname}\")\n",
        "        print(f\"예금주: {self.name}\")\n",
        "        print(f\"계좌번호: {self.account_num}\")\n",
        "        print(f\"잔고: {self.balance}\")\n",
        "        print(\"입금내역 : \")\n",
        "        for date, amount in self.d_history_list:\n",
        "             print(f\"{date} - {amount}원\")\n",
        "        print(\"출금내역 : \")\n",
        "        for date, amount in self.w_history_list:\n",
        "             print(f\"{date} - {wd}원\")\n",
        "\n"
      ],
      "metadata": {
        "id": "HA5VLXKPVZG1"
      },
      "execution_count": null,
      "outputs": []
    },
    {
      "cell_type": "code",
      "source": [
        "    def main():\n"
      ],
      "metadata": {
        "id": "6I9PJus7Vsw3"
      },
      "execution_count": null,
      "outputs": []
    }
  ]
}